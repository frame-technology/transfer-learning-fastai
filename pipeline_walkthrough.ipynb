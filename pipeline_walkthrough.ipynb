{
 "cells": [
  {
   "cell_type": "code",
   "execution_count": 1,
   "metadata": {},
   "outputs": [
    {
     "name": "stdout",
     "output_type": "stream",
     "text": [
      "Requirement already satisfied: fastai==1.0.11 in /usr/local/lib/python3.6/site-packages (1.0.11)\n",
      "Requirement already satisfied: matplotlib in /usr/local/lib/python3.6/site-packages (from fastai==1.0.11) (2.2.3)\n",
      "Requirement already satisfied: dataclasses in /usr/local/lib/python3.6/site-packages (from fastai==1.0.11) (0.6)\n",
      "Requirement already satisfied: ipython in /usr/local/lib/python3.6/site-packages (from fastai==1.0.11) (6.5.0)\n",
      "Requirement already satisfied: jupyter in /usr/local/lib/python3.6/site-packages (from fastai==1.0.11) (1.0.0)\n",
      "Requirement already satisfied: pandas in /usr/local/lib/python3.6/site-packages (from fastai==1.0.11) (0.23.4)\n",
      "Requirement already satisfied: fastprogress>=0.1.10 in /usr/local/lib/python3.6/site-packages (from fastai==1.0.11) (0.1.10)\n",
      "Requirement already satisfied: nbformat in /usr/local/lib/python3.6/site-packages (from fastai==1.0.11) (4.4.0)\n",
      "Requirement already satisfied: traitlets in /usr/local/lib/python3.6/site-packages (from fastai==1.0.11) (4.3.2)\n",
      "Requirement already satisfied: requests in /usr/local/lib/python3.6/site-packages (from fastai==1.0.11) (2.19.1)\n",
      "Requirement already satisfied: typing in /usr/local/lib/python3.6/site-packages (from fastai==1.0.11) (3.6.6)\n",
      "Requirement already satisfied: nbconvert in /usr/local/lib/python3.6/site-packages (from fastai==1.0.11) (5.3.1)\n",
      "Requirement already satisfied: scipy in /usr/local/lib/python3.6/site-packages (from fastai==1.0.11) (1.1.0)\n",
      "Requirement already satisfied: spacy==2.0.16 in /usr/local/lib/python3.6/site-packages (from fastai==1.0.11) (2.0.16)\n",
      "Requirement already satisfied: cymem==2.0.2 in /usr/local/lib/python3.6/site-packages (from fastai==1.0.11) (2.0.2)\n",
      "Requirement already satisfied: thinc==6.12.0 in /usr/local/lib/python3.6/site-packages (from fastai==1.0.11) (6.12.0)\n",
      "Requirement already satisfied: Pillow in /usr/local/lib/python3.6/site-packages (from fastai==1.0.11) (5.2.0)\n",
      "Requirement already satisfied: numpy>=1.15 in /usr/local/lib/python3.6/site-packages (from fastai==1.0.11) (1.15.1)\n",
      "Requirement already satisfied: regex in /usr/local/lib/python3.6/site-packages (from fastai==1.0.11) (2017.4.5)\n",
      "Requirement already satisfied: torchvision-nightly in /usr/local/lib/python3.6/site-packages (from fastai==1.0.11) (0.2.1)\n",
      "Requirement already satisfied: pyyaml in /usr/local/lib/python3.6/site-packages (from fastai==1.0.11) (3.13)\n",
      "Requirement already satisfied: cycler>=0.10 in /usr/local/lib/python3.6/site-packages (from matplotlib->fastai==1.0.11) (0.10.0)\n",
      "Requirement already satisfied: six>=1.10 in /usr/local/lib/python3.6/site-packages (from matplotlib->fastai==1.0.11) (1.11.0)\n",
      "Requirement already satisfied: pyparsing!=2.0.4,!=2.1.2,!=2.1.6,>=2.0.1 in /usr/local/lib/python3.6/site-packages (from matplotlib->fastai==1.0.11) (2.2.0)\n",
      "Requirement already satisfied: pytz in /usr/local/lib/python3.6/site-packages (from matplotlib->fastai==1.0.11) (2018.5)\n",
      "Requirement already satisfied: python-dateutil>=2.1 in /usr/local/lib/python3.6/site-packages (from matplotlib->fastai==1.0.11) (2.7.3)\n",
      "Requirement already satisfied: kiwisolver>=1.0.1 in /usr/local/lib/python3.6/site-packages (from matplotlib->fastai==1.0.11) (1.0.1)\n",
      "Requirement already satisfied: setuptools>=18.5 in /usr/local/lib/python3.6/site-packages (from ipython->fastai==1.0.11) (39.1.0)\n",
      "Requirement already satisfied: simplegeneric>0.8 in /usr/local/lib/python3.6/site-packages (from ipython->fastai==1.0.11) (0.8.1)\n",
      "Requirement already satisfied: prompt-toolkit<2.0.0,>=1.0.15 in /usr/local/lib/python3.6/site-packages (from ipython->fastai==1.0.11) (1.0.15)\n",
      "Requirement already satisfied: pexpect; sys_platform != \"win32\" in /usr/local/lib/python3.6/site-packages (from ipython->fastai==1.0.11) (4.6.0)\n",
      "Requirement already satisfied: jedi>=0.10 in /usr/local/lib/python3.6/site-packages (from ipython->fastai==1.0.11) (0.12.1)\n",
      "Requirement already satisfied: pygments in /usr/local/lib/python3.6/site-packages (from ipython->fastai==1.0.11) (2.2.0)\n",
      "Requirement already satisfied: backcall in /usr/local/lib/python3.6/site-packages (from ipython->fastai==1.0.11) (0.1.0)\n",
      "Requirement already satisfied: decorator in /usr/local/lib/python3.6/site-packages (from ipython->fastai==1.0.11) (4.3.0)\n",
      "Requirement already satisfied: pickleshare in /usr/local/lib/python3.6/site-packages (from ipython->fastai==1.0.11) (0.7.4)\n",
      "Requirement already satisfied: notebook in /usr/local/lib/python3.6/site-packages (from jupyter->fastai==1.0.11) (5.6.0)\n",
      "Requirement already satisfied: ipywidgets in /usr/local/lib/python3.6/site-packages (from jupyter->fastai==1.0.11) (7.4.0)\n",
      "Requirement already satisfied: qtconsole in /usr/local/lib/python3.6/site-packages (from jupyter->fastai==1.0.11) (4.4.1)\n",
      "Requirement already satisfied: ipykernel in /usr/local/lib/python3.6/site-packages (from jupyter->fastai==1.0.11) (4.8.2)\n",
      "Requirement already satisfied: jupyter-console in /usr/local/lib/python3.6/site-packages (from jupyter->fastai==1.0.11) (5.2.0)\n",
      "Requirement already satisfied: ipython-genutils in /usr/local/lib/python3.6/site-packages (from nbformat->fastai==1.0.11) (0.2.0)\n",
      "Requirement already satisfied: jupyter-core in /usr/local/lib/python3.6/site-packages (from nbformat->fastai==1.0.11) (4.4.0)\n",
      "Requirement already satisfied: jsonschema!=2.5.0,>=2.4 in /usr/local/lib/python3.6/site-packages (from nbformat->fastai==1.0.11) (2.6.0)\n",
      "Requirement already satisfied: certifi>=2017.4.17 in /usr/local/lib/python3.6/site-packages (from requests->fastai==1.0.11) (2018.8.13)\n",
      "Requirement already satisfied: idna<2.8,>=2.5 in /usr/local/lib/python3.6/site-packages (from requests->fastai==1.0.11) (2.7)\n",
      "Requirement already satisfied: urllib3<1.24,>=1.21.1 in /usr/local/lib/python3.6/site-packages (from requests->fastai==1.0.11) (1.22)\n",
      "Requirement already satisfied: chardet<3.1.0,>=3.0.2 in /usr/local/lib/python3.6/site-packages (from requests->fastai==1.0.11) (3.0.4)\n",
      "Requirement already satisfied: mistune>=0.7.4 in /usr/local/lib/python3.6/site-packages (from nbconvert->fastai==1.0.11) (0.8.3)\n",
      "Requirement already satisfied: bleach in /usr/local/lib/python3.6/site-packages (from nbconvert->fastai==1.0.11) (2.1.4)\n",
      "Requirement already satisfied: jinja2 in /usr/local/lib/python3.6/site-packages (from nbconvert->fastai==1.0.11) (2.10)\n",
      "Requirement already satisfied: entrypoints>=0.2.2 in /usr/local/lib/python3.6/site-packages (from nbconvert->fastai==1.0.11) (0.2.3)\n",
      "Requirement already satisfied: pandocfilters>=1.4.1 in /usr/local/lib/python3.6/site-packages (from nbconvert->fastai==1.0.11) (1.4.2)\n",
      "Requirement already satisfied: testpath in /usr/local/lib/python3.6/site-packages (from nbconvert->fastai==1.0.11) (0.3.1)\n",
      "Requirement already satisfied: preshed<2.1.0,>=2.0.1 in /usr/local/lib/python3.6/site-packages (from spacy==2.0.16->fastai==1.0.11) (2.0.1)\n",
      "Requirement already satisfied: ujson>=1.35 in /usr/local/lib/python3.6/site-packages (from spacy==2.0.16->fastai==1.0.11) (1.35)\n",
      "Requirement already satisfied: msgpack-numpy<0.4.4 in /usr/local/lib/python3.6/site-packages (from spacy==2.0.16->fastai==1.0.11) (0.4.3.1)\n",
      "Requirement already satisfied: dill<0.3,>=0.2 in /usr/local/lib/python3.6/site-packages (from spacy==2.0.16->fastai==1.0.11) (0.2.8.2)\n",
      "Requirement already satisfied: plac<1.0.0,>=0.9.6 in /usr/local/lib/python3.6/site-packages (from spacy==2.0.16->fastai==1.0.11) (0.9.6)\n",
      "Requirement already satisfied: murmurhash<1.1.0,>=0.28.0 in /usr/local/lib/python3.6/site-packages (from spacy==2.0.16->fastai==1.0.11) (0.28.0)\n",
      "Requirement already satisfied: msgpack<1.0.0,>=0.5.6 in /usr/local/lib/python3.6/site-packages (from thinc==6.12.0->fastai==1.0.11) (0.5.6)\n",
      "Requirement already satisfied: cytoolz<0.10,>=0.9.0 in /usr/local/lib/python3.6/site-packages (from thinc==6.12.0->fastai==1.0.11) (0.9.0.1)\n",
      "Requirement already satisfied: wrapt<1.11.0,>=1.10.0 in /usr/local/lib/python3.6/site-packages (from thinc==6.12.0->fastai==1.0.11) (1.10.11)\n",
      "Requirement already satisfied: tqdm<5.0.0,>=4.10.0 in /usr/local/lib/python3.6/site-packages (from thinc==6.12.0->fastai==1.0.11) (4.25.0)\n",
      "Requirement already satisfied: wcwidth in /usr/local/lib/python3.6/site-packages (from prompt-toolkit<2.0.0,>=1.0.15->ipython->fastai==1.0.11) (0.1.7)\n",
      "Requirement already satisfied: ptyprocess>=0.5 in /usr/local/lib/python3.6/site-packages (from pexpect; sys_platform != \"win32\"->ipython->fastai==1.0.11) (0.6.0)\n",
      "Requirement already satisfied: parso>=0.3.0 in /usr/local/lib/python3.6/site-packages (from jedi>=0.10->ipython->fastai==1.0.11) (0.3.1)\n",
      "Requirement already satisfied: tornado>=4 in /usr/local/lib/python3.6/site-packages (from notebook->jupyter->fastai==1.0.11) (5.1)\n",
      "Requirement already satisfied: jupyter-client>=5.2.0 in /usr/local/lib/python3.6/site-packages (from notebook->jupyter->fastai==1.0.11) (5.2.3)\n",
      "Requirement already satisfied: prometheus-client in /usr/local/lib/python3.6/site-packages (from notebook->jupyter->fastai==1.0.11) (0.3.1)\n",
      "Requirement already satisfied: terminado>=0.8.1 in /usr/local/lib/python3.6/site-packages (from notebook->jupyter->fastai==1.0.11) (0.8.1)\n",
      "Requirement already satisfied: pyzmq>=17 in /usr/local/lib/python3.6/site-packages (from notebook->jupyter->fastai==1.0.11) (17.1.2)\n",
      "Requirement already satisfied: Send2Trash in /usr/local/lib/python3.6/site-packages (from notebook->jupyter->fastai==1.0.11) (1.5.0)\n",
      "Requirement already satisfied: widgetsnbextension~=3.4.0 in /usr/local/lib/python3.6/site-packages (from ipywidgets->jupyter->fastai==1.0.11) (3.4.0)\n",
      "Requirement already satisfied: html5lib!=1.0b1,!=1.0b2,!=1.0b3,!=1.0b4,!=1.0b5,!=1.0b6,!=1.0b7,!=1.0b8,>=0.99999999pre in /usr/local/lib/python3.6/site-packages (from bleach->nbconvert->fastai==1.0.11) (1.0.1)\n",
      "Requirement already satisfied: MarkupSafe>=0.23 in /usr/local/lib/python3.6/site-packages (from jinja2->nbconvert->fastai==1.0.11) (1.0)\n",
      "Requirement already satisfied: toolz>=0.8.0 in /usr/local/lib/python3.6/site-packages (from cytoolz<0.10,>=0.9.0->thinc==6.12.0->fastai==1.0.11) (0.9.0)\n",
      "Requirement already satisfied: webencodings in /usr/local/lib/python3.6/site-packages (from html5lib!=1.0b1,!=1.0b2,!=1.0b3,!=1.0b4,!=1.0b5,!=1.0b6,!=1.0b7,!=1.0b8,>=0.99999999pre->bleach->nbconvert->fastai==1.0.11) (0.5.1)\n",
      "Processing /floyd/input/spacy_model_en/en_core_web_sm-2.0.0.tar.gz\n",
      "Requirement already satisfied: spacy>=2.0.0a18 in /usr/local/lib/python3.6/site-packages (from en-core-web-sm==2.0.0) (2.0.16)\n",
      "Requirement already satisfied: plac<1.0.0,>=0.9.6 in /usr/local/lib/python3.6/site-packages (from spacy>=2.0.0a18->en-core-web-sm==2.0.0) (0.9.6)\n",
      "Requirement already satisfied: ujson>=1.35 in /usr/local/lib/python3.6/site-packages (from spacy>=2.0.0a18->en-core-web-sm==2.0.0) (1.35)\n",
      "Requirement already satisfied: cymem<2.1.0,>=2.0.2 in /usr/local/lib/python3.6/site-packages (from spacy>=2.0.0a18->en-core-web-sm==2.0.0) (2.0.2)\n",
      "Requirement already satisfied: murmurhash<1.1.0,>=0.28.0 in /usr/local/lib/python3.6/site-packages (from spacy>=2.0.0a18->en-core-web-sm==2.0.0) (0.28.0)\n",
      "Requirement already satisfied: thinc<6.13.0,>=6.12.0 in /usr/local/lib/python3.6/site-packages (from spacy>=2.0.0a18->en-core-web-sm==2.0.0) (6.12.0)\n",
      "Requirement already satisfied: numpy>=1.15.0 in /usr/local/lib/python3.6/site-packages (from spacy>=2.0.0a18->en-core-web-sm==2.0.0) (1.15.1)\n",
      "Requirement already satisfied: dill<0.3,>=0.2 in /usr/local/lib/python3.6/site-packages (from spacy>=2.0.0a18->en-core-web-sm==2.0.0) (0.2.8.2)\n",
      "Requirement already satisfied: preshed<2.1.0,>=2.0.1 in /usr/local/lib/python3.6/site-packages (from spacy>=2.0.0a18->en-core-web-sm==2.0.0) (2.0.1)\n",
      "Requirement already satisfied: requests<3.0.0,>=2.13.0 in /usr/local/lib/python3.6/site-packages (from spacy>=2.0.0a18->en-core-web-sm==2.0.0) (2.19.1)\n",
      "Requirement already satisfied: msgpack-numpy<0.4.4 in /usr/local/lib/python3.6/site-packages (from spacy>=2.0.0a18->en-core-web-sm==2.0.0) (0.4.3.1)\n",
      "Collecting regex==2018.01.10 (from spacy>=2.0.0a18->en-core-web-sm==2.0.0)\n",
      "\u001b[?25l  Downloading https://files.pythonhosted.org/packages/76/f4/7146c3812f96fcaaf2d06ff6862582302626a59011ccb6f2833bb38d80f7/regex-2018.01.10.tar.gz (612kB)\n",
      "\u001b[K    100% |████████████████████████████████| 614kB 8.2MB/s \n",
      "\u001b[?25hRequirement already satisfied: wrapt<1.11.0,>=1.10.0 in /usr/local/lib/python3.6/site-packages (from thinc<6.13.0,>=6.12.0->spacy>=2.0.0a18->en-core-web-sm==2.0.0) (1.10.11)\n",
      "Requirement already satisfied: six<2.0.0,>=1.10.0 in /usr/local/lib/python3.6/site-packages (from thinc<6.13.0,>=6.12.0->spacy>=2.0.0a18->en-core-web-sm==2.0.0) (1.11.0)\n",
      "Requirement already satisfied: cytoolz<0.10,>=0.9.0 in /usr/local/lib/python3.6/site-packages (from thinc<6.13.0,>=6.12.0->spacy>=2.0.0a18->en-core-web-sm==2.0.0) (0.9.0.1)\n",
      "Requirement already satisfied: msgpack<1.0.0,>=0.5.6 in /usr/local/lib/python3.6/site-packages (from thinc<6.13.0,>=6.12.0->spacy>=2.0.0a18->en-core-web-sm==2.0.0) (0.5.6)\n",
      "Requirement already satisfied: tqdm<5.0.0,>=4.10.0 in /usr/local/lib/python3.6/site-packages (from thinc<6.13.0,>=6.12.0->spacy>=2.0.0a18->en-core-web-sm==2.0.0) (4.25.0)\n",
      "Requirement already satisfied: urllib3<1.24,>=1.21.1 in /usr/local/lib/python3.6/site-packages (from requests<3.0.0,>=2.13.0->spacy>=2.0.0a18->en-core-web-sm==2.0.0) (1.22)\n",
      "Requirement already satisfied: chardet<3.1.0,>=3.0.2 in /usr/local/lib/python3.6/site-packages (from requests<3.0.0,>=2.13.0->spacy>=2.0.0a18->en-core-web-sm==2.0.0) (3.0.4)\n",
      "Requirement already satisfied: idna<2.8,>=2.5 in /usr/local/lib/python3.6/site-packages (from requests<3.0.0,>=2.13.0->spacy>=2.0.0a18->en-core-web-sm==2.0.0) (2.7)\n",
      "Requirement already satisfied: certifi>=2017.4.17 in /usr/local/lib/python3.6/site-packages (from requests<3.0.0,>=2.13.0->spacy>=2.0.0a18->en-core-web-sm==2.0.0) (2018.8.13)\n",
      "Requirement already satisfied: toolz>=0.8.0 in /usr/local/lib/python3.6/site-packages (from cytoolz<0.10,>=0.9.0->thinc<6.13.0,>=6.12.0->spacy>=2.0.0a18->en-core-web-sm==2.0.0) (0.9.0)\n",
      "Building wheels for collected packages: en-core-web-sm, regex\n",
      "  Running setup.py bdist_wheel for en-core-web-sm ... \u001b[?25ldone\n",
      "\u001b[?25h  Stored in directory: /root/.cache/pip/wheels/4a/17/23/da236a6b4b6deb584a9d506a0e4af2303f581106e5e91c2e64\n",
      "  Running setup.py bdist_wheel for regex ... \u001b[?25ldone\n",
      "\u001b[?25h  Stored in directory: /root/.cache/pip/wheels/74/17/3f/c77bba99efd74ba1a19862c9dd97f4b6d735e2826721dc00ff\n",
      "Successfully built en-core-web-sm regex\n",
      "Installing collected packages: en-core-web-sm, regex\n",
      "  Found existing installation: regex 2017.4.5\n",
      "    Uninstalling regex-2017.4.5:\n",
      "      Successfully uninstalled regex-2017.4.5\n",
      "Successfully installed en-core-web-sm-2.0.0 regex-2018.1.10\n",
      "\n",
      "\u001b[93m    Linking successful\u001b[0m\n",
      "    /usr/local/lib/python3.6/site-packages/en_core_web_sm -->\n",
      "    /usr/local/lib/python3.6/site-packages/spacy/data/en\n",
      "\n",
      "    You can now load the model via spacy.load('en')\n",
      "\n"
     ]
    }
   ],
   "source": [
    "!pip install fastai==1.0.11\n",
    "!pip install ../input/spacy_model_en/en_core_web_sm-2.0.0.tar.gz\n",
    "!python -m spacy link en_core_web_sm en\n",
    "from fastai import *\n",
    "from fastai.text import *\n",
    "from tensorboard_cb import *"
   ]
  },
  {
   "cell_type": "markdown",
   "metadata": {},
   "source": [
    "# Text example"
   ]
  },
  {
   "cell_type": "markdown",
   "metadata": {},
   "source": [
    "An example of creating a language model and then transfering to a classifier."
   ]
  },
  {
   "cell_type": "code",
   "execution_count": 34,
   "metadata": {},
   "outputs": [],
   "source": [
    "def read_csv_with_sample_size(path, sample_size, chunksize=24000):\n",
    "    total_rows = get_total_length(path, chunksize=chunksize)\n",
    "    chunk_length = get_chunk_length(path, chunksize=chunksize)\n",
    "    # protect against zero\n",
    "    sample_size = max(sample_size, 1)\n",
    "    # protect against a fraction too small to sample from a chunk\n",
    "    frac = min(max(sample_size, chunk_length+1) / total_rows, 1.0)\n",
    "    df = pd.DataFrame()\n",
    "    for chunk in pd.read_csv(path, chunksize=chunksize, header=None):\n",
    "        df = pd.concat([df, chunk.sample(frac=frac)])\n",
    "    return df[:sample_size]"
   ]
  },
  {
   "cell_type": "code",
   "execution_count": 37,
   "metadata": {},
   "outputs": [],
   "source": [
    "!rm -rf data/\n",
    "def build_directory_from_mounts(src='/floyd/input/imdb_reviews_wt103/', dst='data/', sample_size=1000):\n",
    "    \"\"\"\n",
    "    Copy mounted directory into writable local, then save training language model csv with the specified sample_size\n",
    "    \"\"\"\n",
    "    shutil.copytree(src, dst)\n",
    "    dftr_lm = read_csv_with_sample_size(\n",
    "        dst+'train.csv', sample_size=sample_size)\n",
    "    dftr_lm.to_csv(dst+'train_lm.csv', index=False, header=False)\n",
    "\n",
    "build_directory_from_mounts(sample_size=100)"
   ]
  },
  {
   "cell_type": "code",
   "execution_count": 38,
   "metadata": {},
   "outputs": [
    {
     "name": "stdout",
     "output_type": "stream",
     "text": [
      "100\n"
     ]
    },
    {
     "data": {
      "text/html": [
       "<div>\n",
       "<style scoped>\n",
       "    .dataframe tbody tr th:only-of-type {\n",
       "        vertical-align: middle;\n",
       "    }\n",
       "\n",
       "    .dataframe tbody tr th {\n",
       "        vertical-align: top;\n",
       "    }\n",
       "\n",
       "    .dataframe thead th {\n",
       "        text-align: right;\n",
       "    }\n",
       "</style>\n",
       "<table border=\"1\" class=\"dataframe\">\n",
       "  <thead>\n",
       "    <tr style=\"text-align: right;\">\n",
       "      <th></th>\n",
       "      <th>0</th>\n",
       "      <th>1</th>\n",
       "    </tr>\n",
       "  </thead>\n",
       "  <tbody>\n",
       "    <tr>\n",
       "      <th>0</th>\n",
       "      <td>0</td>\n",
       "      <td>It is a widespread superstition that when a bo...</td>\n",
       "    </tr>\n",
       "    <tr>\n",
       "      <th>1</th>\n",
       "      <td>0</td>\n",
       "      <td>\"Triloquist\" centers around a sister and broth...</td>\n",
       "    </tr>\n",
       "    <tr>\n",
       "      <th>2</th>\n",
       "      <td>0</td>\n",
       "      <td>I don't watch much bollywood movies, only a se...</td>\n",
       "    </tr>\n",
       "    <tr>\n",
       "      <th>3</th>\n",
       "      <td>0</td>\n",
       "      <td>Here we have three interesting famous artists ...</td>\n",
       "    </tr>\n",
       "    <tr>\n",
       "      <th>4</th>\n",
       "      <td>0</td>\n",
       "      <td>...and I don't mean nuclear!! This movie is pr...</td>\n",
       "    </tr>\n",
       "  </tbody>\n",
       "</table>\n",
       "</div>"
      ],
      "text/plain": [
       "   0                                                  1\n",
       "0  0  It is a widespread superstition that when a bo...\n",
       "1  0  \"Triloquist\" centers around a sister and broth...\n",
       "2  0  I don't watch much bollywood movies, only a se...\n",
       "3  0  Here we have three interesting famous artists ...\n",
       "4  0  ...and I don't mean nuclear!! This movie is pr..."
      ]
     },
     "execution_count": 38,
     "metadata": {},
     "output_type": "execute_result"
    }
   ],
   "source": [
    "dir_path = 'data/'\n",
    "dftr_lm = pd.read_csv(dir_path+'train_lm.csv', header=None)\n",
    "dftr_clas = pd.read_csv(dir_path+'train_clas.csv', header=None)\n",
    "print(len(dftr_lm))\n",
    "dftr_lm.head()"
   ]
  },
  {
   "cell_type": "code",
   "execution_count": 33,
   "metadata": {},
   "outputs": [
    {
     "data": {
      "text/html": [
       "<div>\n",
       "<style scoped>\n",
       "    .dataframe tbody tr th:only-of-type {\n",
       "        vertical-align: middle;\n",
       "    }\n",
       "\n",
       "    .dataframe tbody tr th {\n",
       "        vertical-align: top;\n",
       "    }\n",
       "\n",
       "    .dataframe thead th {\n",
       "        text-align: right;\n",
       "    }\n",
       "</style>\n",
       "<table border=\"1\" class=\"dataframe\">\n",
       "  <thead>\n",
       "    <tr style=\"text-align: right;\">\n",
       "      <th></th>\n",
       "      <th>0</th>\n",
       "      <th>1</th>\n",
       "    </tr>\n",
       "  </thead>\n",
       "  <tbody>\n",
       "    <tr>\n",
       "      <th>0</th>\n",
       "      <td>0</td>\n",
       "      <td>The people who are praising this film are the ...</td>\n",
       "    </tr>\n",
       "    <tr>\n",
       "      <th>1</th>\n",
       "      <td>1</td>\n",
       "      <td>A kind of road movie in old-fashioned trains i...</td>\n",
       "    </tr>\n",
       "    <tr>\n",
       "      <th>2</th>\n",
       "      <td>0</td>\n",
       "      <td>We rented five movies for New Year's Eve weeke...</td>\n",
       "    </tr>\n",
       "    <tr>\n",
       "      <th>3</th>\n",
       "      <td>1</td>\n",
       "      <td>Ok, basically this is a popcorn sci-fi movie, ...</td>\n",
       "    </tr>\n",
       "    <tr>\n",
       "      <th>4</th>\n",
       "      <td>0</td>\n",
       "      <td>I haven't seen \"Henry Fool\", but after watchin...</td>\n",
       "    </tr>\n",
       "  </tbody>\n",
       "</table>\n",
       "</div>"
      ],
      "text/plain": [
       "   0                                                  1\n",
       "0  0  The people who are praising this film are the ...\n",
       "1  1  A kind of road movie in old-fashioned trains i...\n",
       "2  0  We rented five movies for New Year's Eve weeke...\n",
       "3  1  Ok, basically this is a popcorn sci-fi movie, ...\n",
       "4  0  I haven't seen \"Henry Fool\", but after watchin..."
      ]
     },
     "execution_count": 33,
     "metadata": {},
     "output_type": "execute_result"
    }
   ],
   "source": [
    "dftr_clas.head()"
   ]
  },
  {
   "cell_type": "markdown",
   "metadata": {},
   "source": [
    "Open and view the independent and dependent variables:"
   ]
  },
  {
   "cell_type": "code",
   "execution_count": 7,
   "metadata": {},
   "outputs": [
    {
     "data": {
      "text/plain": [
       "['neg', 'pos']"
      ]
     },
     "execution_count": 7,
     "metadata": {},
     "output_type": "execute_result"
    }
   ],
   "source": [
    "classes = read_classes(dir_path+'/classes.txt')[:2]\n",
    "classes"
   ]
  },
  {
   "cell_type": "markdown",
   "metadata": {},
   "source": [
    "Create a `DataBunch` for each of the language model and the classifier:"
   ]
  },
  {
   "cell_type": "code",
   "execution_count": 8,
   "metadata": {},
   "outputs": [
    {
     "name": "stdout",
     "output_type": "stream",
     "text": [
      "Tokenizing train_lm.\n"
     ]
    },
    {
     "data": {
      "application/vnd.jupyter.widget-view+json": {
       "model_id": "",
       "version_major": 2,
       "version_minor": 0
      },
      "text/plain": [
       "HBox(children=(IntProgress(value=0, max=1), HTML(value='')))"
      ]
     },
     "metadata": {},
     "output_type": "display_data"
    },
    {
     "data": {
      "application/vnd.jupyter.widget-view+json": {
       "model_id": "",
       "version_major": 2,
       "version_minor": 0
      },
      "text/plain": [
       "HBox(children=(IntProgress(value=0, max=1), HTML(value='0.00% [0/1 00:00<00:00]')))"
      ]
     },
     "metadata": {},
     "output_type": "display_data"
    },
    {
     "name": "stdout",
     "output_type": "stream",
     "text": [
      "Numericalizing train_lm.\n",
      "Tokenizing valid.\n"
     ]
    },
    {
     "data": {
      "application/vnd.jupyter.widget-view+json": {
       "model_id": "",
       "version_major": 2,
       "version_minor": 0
      },
      "text/plain": [
       "HBox(children=(IntProgress(value=0, max=3), HTML(value='')))"
      ]
     },
     "metadata": {},
     "output_type": "display_data"
    },
    {
     "data": {
      "application/vnd.jupyter.widget-view+json": {
       "model_id": "",
       "version_major": 2,
       "version_minor": 0
      },
      "text/plain": [
       "HBox(children=(IntProgress(value=0, max=3), HTML(value='0.00% [0/3 00:00<00:00]')))"
      ]
     },
     "metadata": {},
     "output_type": "display_data"
    },
    {
     "name": "stdout",
     "output_type": "stream",
     "text": [
      "Numericalizing valid.\n",
      "Tokenizing train_clas.\n"
     ]
    },
    {
     "data": {
      "application/vnd.jupyter.widget-view+json": {
       "model_id": "",
       "version_major": 2,
       "version_minor": 0
      },
      "text/plain": [
       "HBox(children=(IntProgress(value=0, max=3), HTML(value='')))"
      ]
     },
     "metadata": {},
     "output_type": "display_data"
    },
    {
     "data": {
      "application/vnd.jupyter.widget-view+json": {
       "model_id": "",
       "version_major": 2,
       "version_minor": 0
      },
      "text/plain": [
       "HBox(children=(IntProgress(value=0, max=3), HTML(value='0.00% [0/3 00:00<00:00]')))"
      ]
     },
     "metadata": {},
     "output_type": "display_data"
    },
    {
     "name": "stdout",
     "output_type": "stream",
     "text": [
      "Numericalizing train_clas.\n",
      "Tokenizing valid_clas.\n"
     ]
    },
    {
     "data": {
      "application/vnd.jupyter.widget-view+json": {
       "model_id": "",
       "version_major": 2,
       "version_minor": 0
      },
      "text/plain": [
       "HBox(children=(IntProgress(value=0, max=3), HTML(value='')))"
      ]
     },
     "metadata": {},
     "output_type": "display_data"
    },
    {
     "data": {
      "application/vnd.jupyter.widget-view+json": {
       "model_id": "",
       "version_major": 2,
       "version_minor": 0
      },
      "text/plain": [
       "HBox(children=(IntProgress(value=0, max=3), HTML(value='0.00% [0/3 00:00<00:00]')))"
      ]
     },
     "metadata": {},
     "output_type": "display_data"
    },
    {
     "name": "stdout",
     "output_type": "stream",
     "text": [
      "Numericalizing valid_clas.\n"
     ]
    }
   ],
   "source": [
    "data_lm = TextLMDataBunch.from_csv(dir_path, train=\"train_lm\")\n",
    "data_clas = TextClasDataBunch.from_csv(dir_path, train='train_clas', valid='valid_clas', vocab=data_lm.train_ds.vocab)"
   ]
  },
  {
   "cell_type": "markdown",
   "metadata": {},
   "source": [
    "We'll fine-tune the language model:"
   ]
  },
  {
   "cell_type": "code",
   "execution_count": 9,
   "metadata": {},
   "outputs": [
    {
     "data": {
      "text/plain": [
       "('101 rows', 'Vocabulary size: 1288')"
      ]
     },
     "execution_count": 9,
     "metadata": {},
     "output_type": "execute_result"
    }
   ],
   "source": [
    "f'{len(dftr_lm)} rows', f'Vocabulary size: {data_lm.train_ds.vocab_size}'"
   ]
  },
  {
   "cell_type": "code",
   "execution_count": 13,
   "metadata": {},
   "outputs": [
    {
     "data": {
      "application/vnd.jupyter.widget-view+json": {
       "model_id": "",
       "version_major": 2,
       "version_minor": 0
      },
      "text/plain": [
       "VBox(children=(HBox(children=(IntProgress(value=0, max=1), HTML(value='0.00% [0/1 00:00<00:00]'))), HTML(value…"
      ]
     },
     "metadata": {},
     "output_type": "display_data"
    },
    {
     "name": "stdout",
     "output_type": "stream",
     "text": [
      "Total time: 03:10\n",
      "epoch  train loss  valid loss  accuracy\n",
      "1      9.557506    8.715771    0.119026  (03:10)\n",
      "\n"
     ]
    },
    {
     "data": {
      "image/png": "[encoded data removed]",
      "text/plain": [
       "<Figure size 432x288 with 1 Axes>"
      ]
     },
     "metadata": {},
     "output_type": "display_data"
    }
   ],
   "source": [
    "wd = 1e-7\n",
    "lr=1e-3\n",
    "lrs = lr\n",
    "learn = RNNLearner.language_model(data_lm,drop_mult=0.7, pretrained_fnames=['lstm_wt103', 'itos_wt103'],metrics=accuracy,callback_fns=ShowGraph)\n",
    "learn.fit_one_cycle(max_lr=slice(1e-3/2,1), wd=wd, cyc_len=1)"
   ]
  },
  {
   "cell_type": "markdown",
   "metadata": {},
   "source": [
    "Save our language model's encoder:"
   ]
  },
  {
   "cell_type": "code",
   "execution_count": 14,
   "metadata": {},
   "outputs": [],
   "source": [
    "learn.save_encoder(f'lm_last_ft')\n",
    "learn.load_encoder(f'lm_last_ft')\n",
    "learn.unfreeze()"
   ]
  },
  {
   "cell_type": "code",
   "execution_count": 21,
   "metadata": {},
   "outputs": [
    {
     "data": {
      "application/vnd.jupyter.widget-view+json": {
       "model_id": "129dbb1f1fca49f0a6caa06155481620",
       "version_major": 2,
       "version_minor": 0
      },
      "text/plain": [
       "VBox(children=(HBox(children=(IntProgress(value=0, max=17), HTML(value='0.00% [0/17 00:00<00:00]'))), HTML(val…"
      ]
     },
     "metadata": {},
     "output_type": "display_data"
    }
   ],
   "source": [
    "learn.lr_find(start_lr=lrs/10, end_lr=lrs*10)\n",
    "learn.recorder.plot()\n",
    "plt.show()"
   ]
  },
  {
   "cell_type": "code",
   "execution_count": 22,
   "metadata": {},
   "outputs": [
    {
     "data": {
      "application/vnd.jupyter.widget-view+json": {
       "model_id": "",
       "version_major": 2,
       "version_minor": 0
      },
      "text/plain": [
       "VBox(children=(HBox(children=(IntProgress(value=0, max=3), HTML(value='0.00% [0/3 00:00<00:00]'))), HTML(value…"
      ]
     },
     "metadata": {},
     "output_type": "display_data"
    },
    {
     "name": "stdout",
     "output_type": "stream",
     "text": [
      "Total time: 09:34\n",
      "epoch  train loss  valid loss  accuracy\n",
      "1      6.492668    4.965763    0.210325  (03:12)\n",
      "2      5.857318    4.875619    0.210314  (03:10)\n",
      "3      5.617917    4.825782    0.210316  (03:10)\n",
      "\n"
     ]
    },
    {
     "data": {
      "image/png": "[encoded data removed]",
      "text/plain": [
       "<Figure size 432x288 with 1 Axes>"
      ]
     },
     "metadata": {},
     "output_type": "display_data"
    }
   ],
   "source": [
    "learn.fit(lr = slice(lrs, 1), wd=wd, epochs=15)"
   ]
  },
  {
   "cell_type": "code",
   "execution_count": 23,
   "metadata": {},
   "outputs": [
    {
     "data": {
      "text/plain": [
       "[0.21032450094820665]"
      ]
     },
     "execution_count": 23,
     "metadata": {},
     "output_type": "execute_result"
    }
   ],
   "source": [
    "learn.recorder.metrics[0]"
   ]
  },
  {
   "cell_type": "code",
   "execution_count": 15,
   "metadata": {},
   "outputs": [],
   "source": [
    "learn.save_encoder('lm1_enc')"
   ]
  },
  {
   "cell_type": "markdown",
   "metadata": {},
   "source": [
    "Fine tune it to create a classifier:"
   ]
  },
  {
   "cell_type": "code",
   "execution_count": 13,
   "metadata": {},
   "outputs": [
    {
     "data": {
      "application/vnd.jupyter.widget-view+json": {
       "model_id": "",
       "version_major": 2,
       "version_minor": 0
      },
      "text/plain": [
       "VBox(children=(HBox(children=(IntProgress(value=0, max=1), HTML(value='0.00% [0/1 00:00<00:00]'))), HTML(value…"
      ]
     },
     "metadata": {},
     "output_type": "display_data"
    },
    {
     "name": "stdout",
     "output_type": "stream",
     "text": [
      "Total time: 11:24\n",
      "epoch  train loss  valid loss  accuracy\n",
      "1      0.694367    0.693478    0.500480  (11:23)\n",
      "\n"
     ]
    },
    {
     "data": {
      "image/png": "[encoded data removed]",
      "text/plain": [
       "<Figure size 432x288 with 1 Axes>"
      ]
     },
     "metadata": {},
     "output_type": "display_data"
    }
   ],
   "source": [
    "learn = RNNLearner.classifier(data_clas, drop_mult=0.5, clip=0.25, metrics=[accuracy],callback_fns=ShowGraph)\n",
    "learn.load_encoder('lm1_enc')\n",
    "learn.freeze_to(-1)"
   ]
  },
  {
   "cell_type": "code",
   "execution_count": null,
   "metadata": {},
   "outputs": [
    {
     "data": {
      "application/vnd.jupyter.widget-view+json": {
       "model_id": "3205094499af4f81a8e4ec5d29b04b59",
       "version_major": 2,
       "version_minor": 0
      },
      "text/plain": [
       "VBox(children=(HBox(children=(IntProgress(value=0, max=1), HTML(value='0.00% [0/1 00:00<00:00]'))), HTML(value…"
      ]
     },
     "metadata": {},
     "output_type": "display_data"
    },
    {
     "data": {
      "application/vnd.jupyter.widget-view+json": {
       "model_id": "",
       "version_major": 2,
       "version_minor": 0
      },
      "text/plain": [
       "VBox(children=(HBox(children=(IntProgress(value=0, max=1), HTML(value='0.00% [0/1 00:00<00:00]'))), HTML(value…"
      ]
     },
     "metadata": {},
     "output_type": "display_data"
    },
    {
     "name": "stdout",
     "output_type": "stream",
     "text": [
      "Total time: 08:59\n",
      "epoch  train loss  valid loss  accuracy\n",
      "1      0.695710    1.011420    0.500000  (08:59)\n",
      "\n"
     ]
    },
    {
     "data": {
      "application/vnd.jupyter.widget-view+json": {
       "model_id": "",
       "version_major": 2,
       "version_minor": 0
      },
      "text/plain": [
       "VBox(children=(HBox(children=(IntProgress(value=0, max=1), HTML(value='0.00% [0/1 00:00<00:00]'))), HTML(value…"
      ]
     },
     "metadata": {},
     "output_type": "display_data"
    },
    {
     "name": "stdout",
     "output_type": "stream",
     "text": [
      "Total time: 11:26\n",
      "epoch  train loss  valid loss  accuracy\n",
      "1      0.694266    0.693202    0.500000  (11:26)\n",
      "\n"
     ]
    },
    {
     "data": {
      "application/vnd.jupyter.widget-view+json": {
       "model_id": "b5e1ab02bb704f02af0e35ff6dca95e1",
       "version_major": 2,
       "version_minor": 0
      },
      "text/plain": [
       "VBox(children=(HBox(children=(IntProgress(value=0, max=14), HTML(value='0.00% [0/14 00:00<00:00]'))), HTML(val…"
      ]
     },
     "metadata": {},
     "output_type": "display_data"
    }
   ],
   "source": [
    "wd = 1e-7\n",
    "learn.lr_find(lrs/1000)\n",
    "learn.fit(lr=slice(1e-4, 1e-2), wd=wd, epochs=1)\n",
    "learn.save('clas_0')\n",
    "learn.load('clas_0')\n",
    "learn.freeze_to(-2)\n",
    "learn.fit(lr=slice(1e-4, 1e-2), wd=wd, epochs=1)\n",
    "learn.save('clas_1')\n",
    "learn.load('clas_1')\n",
    "learn.unfreeze()\n",
    "learn.fit(lr=slice(1e-4, 1e-2), wd=wd, epochs=14)\n",
    "learn.save('clas_2')"
   ]
  },
  {
   "cell_type": "code",
   "execution_count": 24,
   "metadata": {},
   "outputs": [
    {
     "data": {
      "image/png": "[encoded data removed]",
      "text/plain": [
       "<Figure size 432x288 with 1 Axes>"
      ]
     },
     "metadata": {},
     "output_type": "display_data"
    }
   ],
   "source": [
    "learn.recorder.plot()\n",
    "plt.show()"
   ]
  },
  {
   "cell_type": "code",
   "execution_count": null,
   "metadata": {},
   "outputs": [],
   "source": []
  }
 ],
 "metadata": {
  "kernelspec": {
   "display_name": "Python 3",
   "language": "python",
   "name": "python3"
  },
  "language_info": {
   "codemirror_mode": {
    "name": "ipython",
    "version": 3
   },
   "file_extension": ".py",
   "mimetype": "text/x-python",
   "name": "python",
   "nbconvert_exporter": "python",
   "pygments_lexer": "ipython3",
   "version": "3.6.5"
  }
 },
 "nbformat": 4,
 "nbformat_minor": 2
}
