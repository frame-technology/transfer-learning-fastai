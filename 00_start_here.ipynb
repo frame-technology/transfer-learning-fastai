{
 "cells": [
  {
   "cell_type": "code",
   "execution_count": null,
   "metadata": {},
   "outputs": [],
   "source": [
    "!pip install fastai==1.0.11\n",
    "!python -m spacy download en\n",
    "!pip install fire\n",
    "from train import *"
   ]
  },
  {
   "cell_type": "code",
   "execution_count": 13,
   "metadata": {},
   "outputs": [],
   "source": [
    "!rm -rf data"
   ]
  },
  {
   "cell_type": "code",
   "execution_count": 15,
   "metadata": {},
   "outputs": [],
   "source": [
    "def train_grid(exp_name, sample_sizes=[0, 500, 1000, 2000, 4000, 8000, 16000, 32000, 64000, 90000]):\n",
    "    for size in sample_sizes:\n",
    "        for global_lm in [True, False]:\n",
    "            !floyd run \"bash setup.sh && python train.py mytest floyd \\\n",
    "                --sample-size={size} --global-lm={global_lm}\" \\\n",
    "                --env pytorch-1.0 --gpu \\\n",
    "                --data frame/datasets/imdb_reviews_wt103/1:imdb_reviews_wt103 \\\n",
    "                -m \"sample size {size}, global_lm {global_lm}\""
   ]
  },
  {
   "cell_type": "code",
   "execution_count": 16,
   "metadata": {},
   "outputs": [
    {
     "name": "stdout",
     "output_type": "stream",
     "text": [
      "Creating project run. Total upload size: 199.2KiB\n",
      "Syncing code ...\n",
      "[================================] 208327/208327 - 00:00:01\n",
      "\n",
      "JOB NAME\n",
      "-------------------------------------\n",
      "frame/projects/fastai_ulmfit_test/102\n",
      "\n",
      "URL to job: https://www.floydhub.com/frame/projects/fastai_ulmfit_test/102\n",
      "\n",
      "To view logs enter:\n",
      "   floyd logs frame/projects/fastai_ulmfit_test/102\n",
      "Creating project run. Total upload size: 199.2KiB\n",
      "Syncing code ...\n",
      "[================================] 208329/208329 - 00:00:01\n",
      "\n",
      "JOB NAME\n",
      "-------------------------------------\n",
      "frame/projects/fastai_ulmfit_test/103\n",
      "\n",
      "URL to job: https://www.floydhub.com/frame/projects/fastai_ulmfit_test/103\n",
      "\n",
      "To view logs enter:\n",
      "   floyd logs frame/projects/fastai_ulmfit_test/103\n",
      "Creating project run. Total upload size: 199.2KiB\n",
      "Syncing code ...\n",
      "[================================] 208327/208327 - 00:00:01\n",
      "\n",
      "JOB NAME\n",
      "-------------------------------------\n",
      "frame/projects/fastai_ulmfit_test/104\n",
      "\n",
      "URL to job: https://www.floydhub.com/frame/projects/fastai_ulmfit_test/104\n",
      "\n",
      "To view logs enter:\n",
      "   floyd logs frame/projects/fastai_ulmfit_test/104\n",
      "Creating project run. Total upload size: 199.2KiB\n",
      "Syncing code ...\n",
      "[================================] 208329/208329 - 00:00:01\n",
      "\n",
      "JOB NAME\n",
      "-------------------------------------\n",
      "frame/projects/fastai_ulmfit_test/105\n",
      "\n",
      "URL to job: https://www.floydhub.com/frame/projects/fastai_ulmfit_test/105\n",
      "\n",
      "To view logs enter:\n",
      "   floyd logs frame/projects/fastai_ulmfit_test/105\n"
     ]
    }
   ],
   "source": [
    "train_grid('hello', sample_sizes=[0,4])"
   ]
  },
  {
   "cell_type": "code",
   "execution_count": null,
   "metadata": {},
   "outputs": [],
   "source": []
  }
 ],
 "metadata": {
  "kernelspec": {
   "display_name": "Python 3",
   "language": "python",
   "name": "python3"
  },
  "language_info": {
   "codemirror_mode": {
    "name": "ipython",
    "version": 3
   },
   "file_extension": ".py",
   "mimetype": "text/x-python",
   "name": "python",
   "nbconvert_exporter": "python",
   "pygments_lexer": "ipython3",
   "version": "3.6.5"
  }
 },
 "nbformat": 4,
 "nbformat_minor": 2
}
